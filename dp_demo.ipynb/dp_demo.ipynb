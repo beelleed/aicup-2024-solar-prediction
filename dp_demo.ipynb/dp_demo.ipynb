{
  "cells": [
    {
      "cell_type": "code",
      "execution_count": null,
      "metadata": {
        "colab": {
          "background_save": true
        },
        "id": "8B7JsOEe4XfD",
        "outputId": "fe6e35f3-2bcf-456e-c1bd-fd3fc28d2f87"
      },
      "outputs": [],
      "source": [
        "import pandas as pd\n",
        "import numpy as np\n",
        "import os\n",
        "\n",
        "# 假設資料已經事先整理好\n",
        "# 原始資料請至 AI CUP 官方網站下載，並自行放置於指定資料夾\n",
        "\n",
        "folder_path = 'your_data_path'  # 請使用者自行指定資料夾\n",
        "csv_files = [os.path.join(folder_path, file) for file in os.listdir(folder_path) if file.endswith('.csv')]\n",
        "\n",
        "# 示範合併多個 CSV 檔案為單一 DataFrame\n",
        "dataframes = [pd.read_csv(file) for file in csv_files]\n",
        "df = pd.concat(dataframes, ignore_index=True)"
      ]
    },
    {
      "cell_type": "code",
      "execution_count": null,
      "metadata": {
        "colab": {
          "base_uri": "https://localhost:8080/"
        },
        "id": "ItFwCPol8doF",
        "outputId": "e8815525-40b6-4fa2-f827-8136a3bc741a"
      },
      "outputs": [],
      "source": [
        "# 查看每列缺失值数量\n",
        "print(df.isnull().sum())"
      ]
    },
    {
      "cell_type": "code",
      "execution_count": null,
      "metadata": {
        "colab": {
          "base_uri": "https://localhost:8080/",
          "height": 407
        },
        "id": "4OqesaP80Zg-",
        "outputId": "521faf2a-1153-4b0d-8507-dd6f0b6afd51"
      },
      "outputs": [],
      "source": [
        "df.describe()"
      ]
    },
    {
      "cell_type": "code",
      "execution_count": null,
      "metadata": {
        "id": "P_rnneRQ3KEL"
      },
      "outputs": [],
      "source": [
        "# 轉換日期格式並提取時間特徵\n",
        "df['DateTime'] = pd.to_datetime(df['DateTime'])\n",
        "df['Hour'] = df['DateTime'].dt.hour\n",
        "df['DayOfWeek'] = df['DateTime'].dt.weekday\n",
        "df['Month'] = df['DateTime'].dt.month\n",
        "df['Day'] = df['DateTime'].dt.day\n",
        "df['Minute'] = df['DateTime'].dt.minute\n",
        "df['sin_hour'] = np.sin(2 * np.pi * df['Hour'] / 24)\n",
        "df['cos_hour'] = np.cos(2 * np.pi * df['Hour'] / 24)\n",
        "df['sin_day_of_week'] = np.sin(2 * np.pi * df['DayOfWeek'] / 7)\n",
        "df['cos_day_of_week'] = np.cos(2 * np.pi * df['DayOfWeek'] / 7)\n",
        "df['sin_month'] = np.sin(2 * np.pi * df['Month'] / 12)\n",
        "df['cos_month'] = np.cos(2 * np.pi * df['Month'] / 12)"
      ]
    },
    {
      "cell_type": "code",
      "execution_count": null,
      "metadata": {
        "id": "qzs052Sw4SbS"
      },
      "outputs": [],
      "source": [
        "# 定義季節\n",
        "def get_season(month):\n",
        "    if month in [3, 4, 5]:\n",
        "        return '0'\n",
        "    elif month in [6, 7, 8]:\n",
        "        return '1'\n",
        "    elif month in [9, 10, 11]:\n",
        "        return '2'\n",
        "    else:\n",
        "        return '3'\n",
        "\n",
        "# 根據月份來創建季節特徵\n",
        "df['Season'] = df['Month'].apply(get_season)\n",
        "\n",
        "# 定義清晨、早晨、中午、下午、傍晚、深夜\n",
        "def get_time(hour):\n",
        "    if hour in [5, 6, 7]:\n",
        "        return '0'\n",
        "    elif hour in [8, 9, 10]:\n",
        "        return '1'\n",
        "    elif hour in [11, 12, 13]:\n",
        "        return '2'\n",
        "    elif hour in [14, 15, 16]:\n",
        "        return '3'\n",
        "    elif hour in [17, 18, 19]:\n",
        "        return '4'\n",
        "    else:\n",
        "        return '5'\n",
        "\n",
        "# 根據月份來創建季節特徵\n",
        "df['Time'] = df['Hour'].apply(get_time)"
      ]
    },
    {
      "cell_type": "markdown",
      "metadata": {
        "id": "EmvnpDWcBzdk"
      },
      "source": [
        "## **資料集修正**"
      ]
    },
    {
      "cell_type": "markdown",
      "metadata": {
        "id": "Ib3sF5E059RA"
      },
      "source": [
        "### **風速修正** 線性插值和均值插補"
      ]
    },
    {
      "cell_type": "code",
      "execution_count": null,
      "metadata": {
        "colab": {
          "base_uri": "https://localhost:8080/"
        },
        "id": "E-d5QDby3UOP",
        "outputId": "a7601047-e50f-45ce-e877-8aa883f4227c"
      },
      "outputs": [
        {
          "name": "stderr",
          "output_type": "stream",
          "text": [
            "<ipython-input-34-6bb635638644>:10: FutureWarning: A value is trying to be set on a copy of a DataFrame or Series through chained assignment using an inplace method.\n",
            "The behavior will change in pandas 3.0. This inplace method will never work because the intermediate object on which we are setting values always behaves as a copy.\n",
            "\n",
            "For example, when doing 'df[col].method(value, inplace=True)', try using 'df.method({col: value}, inplace=True)' or df[col] = df[col].method(value) instead, to perform the operation inplace on the original object.\n",
            "\n",
            "\n",
            "  df['WindSpeed(m/s)'].fillna(df['WindSpeed(m/s)'].mean(), inplace=True)\n"
          ]
        }
      ],
      "source": [
        "import pandas as pd\n",
        "import numpy as np\n",
        "\n",
        "def fix_wind_speed(df):\n",
        "    # 步驟 1: 使用線性插值填補風速為 0 或 NaN 的值\n",
        "    df['WindSpeed(m/s)'] = df['WindSpeed(m/s)'].replace(0, np.nan)  # 替換 0 值為 NaN，方便插值\n",
        "    df['WindSpeed(m/s)'] = df['WindSpeed(m/s)'].interpolate(method='linear')  # 使用線性插值填補\n",
        "\n",
        "    # 步驟 2: 若仍有缺失值（NaN），使用均值填補\n",
        "    df['WindSpeed(m/s)'].fillna(df['WindSpeed(m/s)'].mean(), inplace=True)\n",
        "\n",
        "    return df\n",
        "\n",
        "# 呼叫修正函數\n",
        "df = fix_wind_speed(df)"
      ]
    },
    {
      "cell_type": "code",
      "execution_count": null,
      "metadata": {
        "colab": {
          "base_uri": "https://localhost:8080/",
          "height": 790
        },
        "id": "5_hyigviRpPl",
        "outputId": "250d0d87-e4d2-45db-ce31-ef8f037e96c4"
      },
      "outputs": [],
      "source": [
        "df"
      ]
    },
    {
      "cell_type": "markdown",
      "metadata": {
        "id": "OPqIPz4qz72G"
      },
      "source": [
        "### **光照度修正**\n",
        "\n",
        "通過回歸分析，計算光照度與發電量之間的比率。\n",
        "對達到最大值（117758.2 lux）的紀錄，通過回推發電量反推出光照度。\n",
        "處理方法：\n",
        "\n",
        "建立 Sunlight(Lux) 和 Power(mW) 的回歸模型。\n",
        "用回歸模型對超過最大值的光照度進行估算修正。"
      ]
    },
    {
      "cell_type": "code",
      "execution_count": null,
      "metadata": {
        "colab": {
          "base_uri": "https://localhost:8080/"
        },
        "id": "fP8HuMEC1-Wo",
        "outputId": "7b2362b6-b326-4a37-bd49-fbc9acf4bb62"
      },
      "outputs": [],
      "source": [
        "# 定義最大光照度\n",
        "max_sunlight = 117758.2\n",
        "\n",
        "# 找出光照度大於最大值的數據\n",
        "exceed_max_sunlight = df[df['Sunlight(Lux)'] >= max_sunlight]\n",
        "\n",
        "# 顯示大於最大值的數據筆數\n",
        "print(f\"Number of records with Sunlight(Lux) greater than {max_sunlight}: {exceed_max_sunlight.shape[0]}\")\n"
      ]
    },
    {
      "cell_type": "code",
      "execution_count": null,
      "metadata": {
        "colab": {
          "base_uri": "https://localhost:8080/",
          "height": 770
        },
        "id": "Q87IzFfG0NBB",
        "outputId": "37d7860d-c6f1-4557-edf8-9a548a6ef7b4"
      },
      "outputs": [],
      "source": [
        "# 模型訓練與視覺化（基於比賽資料，本範例省略實際輸出）\n",
        "regressor = LinearRegression()\n",
        "regressor.fit(X, y)\n",
        "\n",
        "# 為遵守資料保密規範，以下為註解範例格式\n",
        "# print(f\"回歸係數: {regressor.coef_[0]}\")\n",
        "# print(f\"截距: {regressor.intercept_}\")\n",
        "\n",
        "# 視覺化示意（圖形輸出已移除）\n",
        "plt.scatter(X, y, color='blue', label='樣本點')\n",
        "plt.plot(X, regressor.predict(X), color='red', label='回歸線')\n",
        "plt.xlabel('Sunlight(Lux)')\n",
        "plt.ylabel('Power(mW)')\n",
        "plt.title('Sunlight vs Power (Linear Regression)')\n",
        "plt.legend()\n",
        "# plt.show()  # ← 示意用途，實際圖表未列出以保護比賽資料"
      ]
    },
    {
      "cell_type": "code",
      "execution_count": null,
      "metadata": {
        "colab": {
          "base_uri": "https://localhost:8080/"
        },
        "id": "ulGmX-UD7btp",
        "outputId": "56c64c5c-d044-4db0-b958-98fd7e4ceef5"
      },
      "outputs": [],
      "source": [
        "# 假設最大發電量\n",
        "max_power = df['Power(mW)'].max()\n",
        "\n",
        "# 根據回歸模型推算出對應的光照度\n",
        "predicted_sunlight = (max_power - regressor.intercept_) / regressor.coef_[0]\n",
        "\n",
        "print(f\"基於最大發電量 {max_power} 推算的光照度為: {predicted_sunlight}\")"
      ]
    },
    {
      "cell_type": "code",
      "execution_count": null,
      "metadata": {
        "colab": {
          "base_uri": "https://localhost:8080/"
        },
        "id": "HDU-1ybp6EIL",
        "outputId": "b9130751-2d67-43b9-bd8d-2edbb4e1edc1"
      },
      "outputs": [],
      "source": [
        "# 對大於最大值的光照度數據進行修正\n",
        "df.loc[df['Sunlight(Lux)'] >= max_sunlight, 'Sunlight(Lux)'] = predicted_sunlight\n",
        "\n",
        "# 顯示修正後的數據\n",
        "print(df[['Sunlight(Lux)']].head())"
      ]
    },
    {
      "cell_type": "code",
      "execution_count": null,
      "metadata": {
        "id": "phNDDZbq8BJ_"
      },
      "outputs": [],
      "source": [
        "# 將處理後的資料輸出為 CSV（使用者自行指定輸出路徑）\n",
        "df.to_csv('your_output_path/processed_data.csv', index=False)\n"
      ]
    },
    {
      "cell_type": "markdown",
      "metadata": {
        "id": "wE3YCDR-8ipg"
      },
      "source": [
        "# 上面為處理資料集的程式碼，已將處理後的存成csv，直接以處理好的訓練"
      ]
    },
    {
      "cell_type": "code",
      "execution_count": null,
      "metadata": {
        "colab": {
          "base_uri": "https://localhost:8080/"
        },
        "id": "0Sli0hRF8_Pl",
        "outputId": "5df076f3-9f99-43b5-cedf-a062f9c77067"
      },
      "outputs": [],
      "source": [
        "import pandas as pd\n",
        "import numpy as np\n",
        "\n",
        "# 如在 Google Colab 使用，掛載 Google Drive（選用）\n",
        "# from google.colab import drive\n",
        "# drive.mount('/content/drive')\n",
        "\n",
        "# 匯入處理後資料（請替換為實際路徑）\n",
        "df = pd.read_csv('your_data_path/processed_data.csv')\n",
        "\n",
        "# 檢查資料讀取（為保護比賽資料結構，此處不輸出內容）\n",
        "# print(df.head())"
      ]
    },
    {
      "cell_type": "code",
      "execution_count": null,
      "metadata": {
        "colab": {
          "base_uri": "https://localhost:8080/",
          "height": 790
        },
        "id": "yoQGJmrLdsk4",
        "outputId": "d7ade35e-99d5-41ac-af09-7744c7fca274"
      },
      "outputs": [],
      "source": [
        "df"
      ]
    },
    {
      "cell_type": "code",
      "execution_count": null,
      "metadata": {
        "colab": {
          "base_uri": "https://localhost:8080/"
        },
        "id": "SqMPGjVd1NqT",
        "outputId": "8e47b5df-397c-4bd0-d138-79aaa04f7e7a"
      },
      "outputs": [],
      "source": [
        "# 檢查資料欄位名稱（此處省略實際輸出以保護比賽資料欄位結構）\n",
        "df.columns"
      ]
    },
    {
      "cell_type": "markdown",
      "metadata": {
        "id": "QbVsJ0DICLa2"
      },
      "source": [
        "### 相關性分析"
      ]
    },
    {
      "cell_type": "code",
      "execution_count": null,
      "metadata": {
        "colab": {
          "base_uri": "https://localhost:8080/",
          "height": 1000
        },
        "id": "tMDzZmlMcAQl",
        "outputId": "460a1ae8-2fa9-4971-c243-104a1f93d85a"
      },
      "outputs": [],
      "source": [
        "import pandas as pd\n",
        "import seaborn as sns\n",
        "import matplotlib.pyplot as plt\n",
        "\n",
        "# 指定特徵進行相關性分析\n",
        "features = ['WindSpeed(m/s)', 'Pressure(hpa)', 'Temperature(°C)', 'Humidity(%)','Sunlight(Lux)',\n",
        "            'Month','Day','Hour','Minute','LocationCode','Power(mW)']\n",
        "\n",
        "correlation_matrix = df[features].corr()\n",
        "print(correlation_matrix)\n",
        "\n",
        "# 绘制热图\n",
        "plt.figure(figsize=(12, 8))\n",
        "sns.heatmap(correlation_matrix, annot=True, cmap='coolwarm', fmt='.2f', linewidths=0.5)\n",
        "plt.title('Correlation Heatmap')\n",
        "plt.show()"
      ]
    },
    {
      "cell_type": "markdown",
      "metadata": {
        "id": "WNQ7m1IIeo3y"
      },
      "source": [
        "## 特徵間相關性分析摘要（依據訓練資料）\n",
        "\n",
        "- 風速與地點有負相關，並與月份呈現一定的週期性關係。\n",
        "- 氣壓與月份亦有正相關，並受到地點影響。\n",
        "- 溫度與光照度、發電量皆呈現強正相關，與濕度則為負相關。\n",
        "- 濕度與光照呈負相關，與時間週期特徵（如 cos_hour）呈正相關。\n",
        "- 光照度與發電量之間有非常強的正向關聯，並受到時間變數的週期影響。\n",
        "\n",
        "> 本相關性分析僅描述變數間邏輯趨勢，實際數據相關係數已省略，以遵守競賽資料保密規範。\n"
      ]
    },
    {
      "cell_type": "code",
      "execution_count": null,
      "metadata": {
        "colab": {
          "base_uri": "https://localhost:8080/",
          "height": 1000
        },
        "id": "NUoqlUqZEarI",
        "outputId": "52c5c298-fef6-452d-89cd-6513fe145062"
      },
      "outputs": [],
      "source": [
        "# 相關性分析與熱圖繪製（按月份）\n",
        "for month in df['Month'].unique():\n",
        "    month_data = df[df['Month'] == month][features]\n",
        "    corr_matrix = month_data.corr()\n",
        "\n",
        "    # 可視化邏輯\n",
        "    plt.figure(figsize=(12, 8))\n",
        "    sns.heatmap(corr_matrix, annot=True, cmap='coolwarm', fmt='.2f', linewidths=0.5, vmin=-1, vmax=1)\n",
        "    plt.title(f'Month {month} - Feature Correlation Matrix')\n",
        "    plt.xticks(rotation=45)\n",
        "    plt.yticks(rotation=45)\n",
        "    plt.show()\n"
      ]
    },
    {
      "cell_type": "markdown",
      "metadata": {
        "id": "D2nz5hubCHt3"
      },
      "source": [
        "#按照月份建立氣候特徵模型"
      ]
    },
    {
      "cell_type": "code",
      "execution_count": null,
      "metadata": {
        "colab": {
          "base_uri": "https://localhost:8080/"
        },
        "id": "Pp4z6DwxD7N9",
        "outputId": "e7bf1312-8c45-4338-cc7d-1e29133ea93e"
      },
      "outputs": [],
      "source": [
        "# 訓練和儲存每月模型（此處已移除 MAE 與 R2 輸出以保護資料特性）\n",
        "for month, data in monthly_data.items():\n",
        "    X = data[features]\n",
        "    y = data[target_columns]\n",
        "\n",
        "    X_train, X_test, y_train, y_test = train_test_split(X, y, test_size=0.2, random_state=42)\n",
        "    model = RandomForestRegressor(n_estimators=200, random_state=42)\n",
        "    model.fit(X_train, y_train)\n",
        "\n",
        "    y_pred = model.predict(X_test)\n",
        "\n",
        "    # 模型效能省略顯示\n",
        "    # mae = mean_absolute_error(y_test, y_pred)\n",
        "    # r2 = r2_score(y_test, y_pred)\n",
        "\n",
        "    # 儲存模型（建議使用相對路徑）\n",
        "    monthly_models[month] = model\n",
        "    model_filename = f\"models/model_month_{month}.pkl\"  # ← 改成通用目錄\n",
        "    with open(model_filename, 'wb') as f:\n",
        "        pickle.dump(model, f)\n",
        "        # print(f\"Model for month {month} saved to {model_filename}\")\n"
      ]
    },
    {
      "cell_type": "markdown",
      "metadata": {
        "id": "SlZyLSVeQbvh"
      },
      "source": [
        "# **發電量模型**\n",
        "\n",
        "還是需要環境特徵＋時間和地點做預測 準確率會比較高"
      ]
    },
    {
      "cell_type": "code",
      "execution_count": null,
      "metadata": {
        "colab": {
          "base_uri": "https://localhost:8080/"
        },
        "id": "IdOmvsQjXZ7a",
        "outputId": "d805dd8a-1abd-48af-9a97-43c163bb603f"
      },
      "outputs": [],
      "source": [
        "# 訓練每月的太陽能發電模型，使用指定氣象與地理特徵\n",
        "for month, data in monthly_data.items():\n",
        "    X = data[features]\n",
        "    y = data[target_columns]\n",
        "\n",
        "    X_train, X_test, y_train, y_test = train_test_split(X, y, test_size=0.2, random_state=42)\n",
        "    model = RandomForestRegressor(n_estimators=200, random_state=42)\n",
        "    model.fit(X_train, y_train)\n",
        "\n",
        "    y_pred = model.predict(X_test)\n",
        "\n",
        "    # 評估結果略去顯示，以保護比賽資料特性\n",
        "    # mae = mean_absolute_error(y_test, y_pred)\n",
        "    # r2 = r2_score(y_test, y_pred)\n",
        "\n",
        "    # 儲存模型（使用相對路徑）\n",
        "    monthly_models[month] = model\n",
        "    model_filename = f\"models/power_month_{month}.pkl\"\n",
        "    with open(model_filename, 'wb') as f:\n",
        "        pickle.dump(model, f)\n",
        "        # print(f\"Model for month {month} saved to {model_filename}\")\n"
      ]
    },
    {
      "cell_type": "markdown",
      "metadata": {
        "id": "SykAOZjCH_DH"
      },
      "source": [
        "# 預測氣候特徵\n",
        "將原始上傳資料由每10分鐘擴展為每分鐘一個預測目標"
      ]
    },
    {
      "cell_type": "code",
      "execution_count": null,
      "metadata": {
        "colab": {
          "base_uri": "https://localhost:8080/"
        },
        "id": "yRocA5HCjF19",
        "outputId": "84707d76-20f8-42a0-9801-924beda3ecbd"
      },
      "outputs": [],
      "source": [
        "import pandas as pd\n",
        "\n",
        "# 匯入待預測的 10 分鐘間隔序號清單（不含答案）\n",
        "upload_data = pd.read_csv('your_path/upload(no answer).csv')\n",
        "\n",
        "# 擷取時間與地點代碼\n",
        "upload_data['DateTime'] = upload_data['序號'].apply(lambda x: pd.to_datetime(str(x)[:12], format='%Y%m%d%H%M'))\n",
        "upload_data['LocationCode'] = upload_data['序號'].apply(lambda x: int(str(x)[12:14]))\n",
        "\n",
        "# 擴展每筆資料成 1 分鐘間隔的序號\n",
        "expanded_serials = []\n",
        "for _, row in upload_data.iterrows():\n",
        "    start_time = row['DateTime']\n",
        "    location_code = row['LocationCode']\n",
        "    minute_range = pd.date_range(start=start_time, end=start_time + pd.Timedelta(minutes=9), freq='1T')\n",
        "    for dt in minute_range:\n",
        "        new_serial = dt.strftime('%Y%m%d%H%M') + f'{location_code:02d}'\n",
        "        expanded_serials.append(new_serial)\n",
        "\n",
        "# 儲存為 DataFrame\n",
        "expanded_serials_df = pd.DataFrame(expanded_serials, columns=['序號'])\n",
        "\n",
        "# 檢查結果格式（實際內容略）\n",
        "# print(expanded_serials_df.head())  # ← 請勿公開輸出，避免洩漏資料結構\n"
      ]
    },
    {
      "cell_type": "code",
      "execution_count": null,
      "metadata": {
        "id": "C-6Dalq8kJD9"
      },
      "outputs": [],
      "source": [
        "upload_data = expanded_serials_df"
      ]
    },
    {
      "cell_type": "code",
      "execution_count": null,
      "metadata": {
        "id": "3Ez6c8EXkepu"
      },
      "outputs": [],
      "source": [
        "# 將預測序號或輸出結果儲存為 CSV 檔案（請依實際目錄調整路徑）\n",
        "upload_data.to_csv('output/upload.csv', index=False)"
      ]
    },
    {
      "cell_type": "markdown",
      "metadata": {},
      "source": [
        "透過月份模型預測之氣候特徵"
      ]
    },
    {
      "cell_type": "code",
      "execution_count": null,
      "metadata": {
        "id": "sMo3zqJpKMxq"
      },
      "outputs": [],
      "source": [
        "# 根據月份模型預測各分鐘氣候特徵（推論階段）\n",
        "\n",
        "features = ['Hour','Minute','Day', 'LocationCode', 'sin_hour', 'cos_hour']\n",
        "predictions_list = []\n",
        "\n",
        "for month in upload_data['Month'].unique():\n",
        "    month_data = upload_data[upload_data['Month'] == month]\n",
        "    model_filename = f\"models/weather_model/model_month_{month}.pkl\"  # 相對路徑\n",
        "    with open(model_filename, 'rb') as f:\n",
        "        model = pickle.load(f)\n",
        "\n",
        "    X_month = month_data[features]\n",
        "    predictions = model.predict(X_month)\n",
        "    predictions_df = pd.DataFrame(predictions, columns=['WindSpeed(m/s)', 'Pressure(hpa)', 'Temperature(°C)', 'Humidity(%)', 'Sunlight(Lux)'])\n",
        "\n",
        "    # 合併原始資料與預測結果（索引對齊）\n",
        "    month_data_with_predictions = pd.concat([month_data.reset_index(drop=True), predictions_df.reset_index(drop=True)], axis=1)\n",
        "    predictions_list.append(month_data_with_predictions)\n",
        "\n",
        "# 合併所有月份預測\n",
        "final_predictions = pd.concat(predictions_list, axis=0)\n",
        "\n",
        "# 儲存結果（不輸出內容，保護資料隱私）\n",
        "final_predictions.to_csv('output/weather_predictions.csv', index=False)\n",
        "\n",
        "# 此步驟為推論階段，使用月份對應模型預測分鐘級氣象特徵。\n",
        "# 所有預測結果將儲存至 output/ 目錄。\n",
        "# 實際結果內容為比賽測試資料，已省略輸出顯示以保護資料內容。\n"
      ]
    },
    {
      "cell_type": "code",
      "execution_count": null,
      "metadata": {
        "colab": {
          "base_uri": "https://localhost:8080/",
          "height": 790
        },
        "id": "Aiyk5ZRilSFB",
        "outputId": "a0dc2898-b994-4546-c3ed-000f8411f8d7"
      },
      "outputs": [],
      "source": [
        "final_predictions\n",
        "# 預測完成的結果儲存在 final_predictions\n",
        "# 為避免洩漏測試資料內容，實際輸出略過顯示\n",
        "# display(final_predictions.head())  # 可在本地端檢查\n"
      ]
    },
    {
      "cell_type": "markdown",
      "metadata": {
        "id": "QbxoAUzHIdfg"
      },
      "source": [
        "# 預測發電量"
      ]
    },
    {
      "cell_type": "code",
      "execution_count": null,
      "metadata": {
        "colab": {
          "base_uri": "https://localhost:8080/"
        },
        "id": "3AoDF0qiGSQ-",
        "outputId": "eddde9ca-f2d4-4763-e133-7e382f8d5749"
      },
      "outputs": [],
      "source": [
        "# 載入發電量預測模型\n",
        "power_model = joblib.load('models/power_model.pkl')  # 建議使用相對路徑\n",
        "\n",
        "# 載入氣候預測結果作為發電模型輸入\n",
        "final_predictions = pd.read_csv('output/weather_predictions.csv')  # 同樣使用相對路徑\n",
        "\n",
        "# 選擇模型所需特徵欄位\n",
        "power_features = ['WindSpeed(m/s)', 'Pressure(hpa)', 'Temperature(°C)', 'Humidity(%)', 'Sunlight(Lux)', 'Hour', 'DayOfWeek']\n",
        "X_input = final_predictions[power_features]\n",
        "\n",
        "# 執行預測（不公開實際預測結果）\n",
        "predicted_power = power_model.predict(X_input)\n",
        "\n",
        "# 將預測結果加回原 DataFrame（不顯示實際資料）\n",
        "final_predictions['Power(mW)'] = predicted_power\n",
        "\n",
        "# 儲存為上傳格式\n",
        "final_predictions[['序號', 'Power(mW)']].to_csv('output/upload_ready.csv', index=False)\n",
        "\n",
        "# > 本段使用訓練好的模型預測每筆測試資料對應的太陽能發電量，並儲存為比賽規定的上傳格式。為避免洩漏測資資訊，未顯示預測內容。"
      ]
    },
    {
      "cell_type": "code",
      "execution_count": null,
      "metadata": {
        "id": "bVV-7NkCfgg_"
      },
      "outputs": [],
      "source": [
        "# 透過月份模型預測發電量\n",
        "import pandas as pd\n",
        "import pickle\n",
        "\n",
        "# 載入包含氣象預測結果的資料集\n",
        "final_predictions = pd.read_csv('output/weather_predictions.csv')\n",
        "\n",
        "# 模型使用的特徵欄位\n",
        "features = ['LocationCode', 'WindSpeed(m/s)', 'Pressure(hpa)', 'Temperature(°C)', 'Humidity(%)', 'Sunlight(Lux)']\n",
        "\n",
        "predictions_list = []\n",
        "\n",
        "# 根據月份（例如 7 月）做預測\n",
        "for month in [7]:\n",
        "    month_data = final_predictions[final_predictions['Month'] == month]\n",
        "    model_filename = f\"models/power_model/power_month_{month}.pkl\"\n",
        "\n",
        "    with open(model_filename, 'rb') as f:\n",
        "        model = pickle.load(f)\n",
        "\n",
        "    X_month = month_data[features]\n",
        "    predictions = model.predict(X_month)\n",
        "\n",
        "    predictions_df = pd.DataFrame(predictions, columns=['Power(mW)'])\n",
        "    month_data_with_predictions = pd.concat([month_data.reset_index(drop=True), predictions_df.reset_index(drop=True)], axis=1)\n",
        "    predictions_list.append(month_data_with_predictions)\n",
        "\n",
        "# 合併結果，並儲存成上傳格式\n",
        "final_predictions = pd.concat(predictions_list, axis=0)\n",
        "final_predictions[['序號', 'Power(mW)']].to_csv('output/power_predictions.csv', index=False)\n",
        "\n",
        "# 此步驟根據月份，分別載入發電模型，對每筆測試資料預測發電量 `Power(mW)`，並將結果儲存為符合比賽上傳格式的 CSV 檔案。為保護測資內容，實際輸出略。\n"
      ]
    },
    {
      "cell_type": "code",
      "execution_count": null,
      "metadata": {
        "colab": {
          "base_uri": "https://localhost:8080/",
          "height": 790
        },
        "id": "wruf3FrXhyCE",
        "outputId": "297f7bdc-a6e0-4fda-b059-85cef31e5001"
      },
      "outputs": [],
      "source": [
        "final_predictions"
      ]
    },
    {
      "cell_type": "code",
      "execution_count": null,
      "metadata": {
        "colab": {
          "base_uri": "https://localhost:8080/",
          "height": 423
        },
        "id": "b_j8je5SGyQU",
        "outputId": "adf4730d-7316-409d-f2c5-2a34e19ed26e"
      },
      "outputs": [],
      "source": [
        "# 將模型預測結果格式化為上傳格式，保留至小數點第二位\n",
        "final_predictions['答案'] = final_predictions['power'].round(2)\n",
        "\n",
        "# 預測資料格式為 [序號, 答案]，將其儲存為最終上傳檔案\n",
        "final_predictions[['序號', '答案']].to_csv('output/upload_ready.csv', index=False)\n",
        "\n",
        "# 為遵守比賽規則，略過實際輸出結果顯示\n",
        "# display(final_predictions[['序號', '答案']].head())"
      ]
    },
    {
      "cell_type": "code",
      "execution_count": null,
      "metadata": {
        "colab": {
          "base_uri": "https://localhost:8080/",
          "height": 1000
        },
        "id": "8Qj9gaRLiznG",
        "outputId": "4e608a3e-7bc2-407c-b4f8-74f06fb411ea"
      },
      "outputs": [],
      "source": [
        "final_predictions.head(15)\n",
        "# 預測結果包含 [序號, 預測答案]，已儲存為 CSV 檔案\n",
        "# 為遵守比賽規則，以下輸出略過實際資料顯示\n",
        "# final_predictions[['序號', '答案']].head()"
      ]
    },
    {
      "cell_type": "code",
      "execution_count": null,
      "metadata": {
        "colab": {
          "base_uri": "https://localhost:8080/",
          "height": 391
        },
        "id": "L1lFGIBLlwlO",
        "outputId": "6d6de759-de98-4d1d-c953-f66036af3ef3"
      },
      "outputs": [],
      "source": [
        "import pandas as pd\n",
        "\n",
        "# 確保 DateTime 為 datetime 類型\n",
        "final_predictions['DateTime'] = pd.to_datetime(final_predictions['DateTime'])\n",
        "\n",
        "# 建立每 10 分鐘的區間欄位\n",
        "final_predictions['10MinInterval'] = final_predictions['DateTime'].dt.floor('10T')\n",
        "\n",
        "# 計算每 10 分鐘與地點的平均發電量\n",
        "averaged_data = final_predictions.groupby(['10MinInterval', 'LocationCode'])['power'].mean().round(2).reset_index()\n",
        "\n",
        "# 生成序號格式\n",
        "averaged_data['序號'] = averaged_data['10MinInterval'].dt.strftime('%Y%m%d%H%M') + averaged_data['LocationCode'].astype(str).str.zfill(2)\n",
        "\n",
        "# 整理成提交格式\n",
        "averaged_data.rename(columns={'power': '答案'}, inplace=True)\n",
        "submission_data = averaged_data[['序號', '答案']]\n",
        "\n",
        "# 儲存為最終上傳 CSV（不顯示內容）\n",
        "submission_data.to_csv('output/submission.csv', index=False)\n",
        "\n",
        "# print(submission_data.head())  # 本地可檢查，公開時請註解\n"
      ]
    },
    {
      "cell_type": "code",
      "execution_count": null,
      "metadata": {
        "colab": {
          "base_uri": "https://localhost:8080/",
          "height": 423
        },
        "id": "PWvAAvh2nDWq",
        "outputId": "55281a84-3435-4323-ecdc-1deb4ffed5ba"
      },
      "outputs": [],
      "source": [
        "submission_data"
      ]
    },
    {
      "cell_type": "code",
      "execution_count": null,
      "metadata": {
        "id": "hiYMVcPo9lF9"
      },
      "outputs": [],
      "source": [
        "# 將最終預測結果儲存為符合比賽規範的 CSV 檔案\n",
        "submission_data[['序號', '答案']].to_csv('output/output_predictions.csv', index=False)"
      ]
    }
  ],
  "metadata": {
    "accelerator": "GPU",
    "colab": {
      "gpuType": "T4",
      "provenance": [],
      "toc_visible": true
    },
    "kernelspec": {
      "display_name": "Python 3",
      "name": "python3"
    },
    "language_info": {
      "name": "python"
    }
  },
  "nbformat": 4,
  "nbformat_minor": 0
}
